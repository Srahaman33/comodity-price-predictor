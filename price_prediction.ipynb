{
  "nbformat": 4,
  "nbformat_minor": 0,
  "metadata": {
    "colab": {
      "provenance": [],
      "include_colab_link": true
    },
    "kernelspec": {
      "name": "python3",
      "display_name": "Python 3"
    },
    "language_info": {
      "name": "python"
    }
  },
  "cells": [
    {
      "cell_type": "markdown",
      "metadata": {
        "id": "view-in-github",
        "colab_type": "text"
      },
      "source": [
        "<a href=\"https://colab.research.google.com/github/Srahaman33/comodity-price-predictor/blob/main/price_prediction.ipynb\" target=\"_parent\"><img src=\"https://colab.research.google.com/assets/colab-badge.svg\" alt=\"Open In Colab\"/></a>"
      ]
    },
    {
      "cell_type": "code",
      "execution_count": 4,
      "metadata": {
        "id": "2Pq0pTYQHAkA"
      },
      "outputs": [],
      "source": [
        "from google.colab import drive\n",
        "import pandas as pd\n",
        "import os\n",
        "import statsmodels.api as sm\n",
        "import matplotlib.pyplot as plt\n",
        "import pickle"
      ]
    },
    {
      "cell_type": "code",
      "source": [
        "from google.colab import drive\n",
        "drive.mount('/content/drive')"
      ],
      "metadata": {
        "colab": {
          "base_uri": "https://localhost:8080/"
        },
        "id": "F7lJGT47kvJ8",
        "outputId": "c5c1c31a-2e34-4b22-8151-28dae2442f74"
      },
      "execution_count": 12,
      "outputs": [
        {
          "output_type": "stream",
          "name": "stdout",
          "text": [
            "Drive already mounted at /content/drive; to attempt to forcibly remount, call drive.mount(\"/content/drive\", force_remount=True).\n"
          ]
        }
      ]
    },
    {
      "cell_type": "code",
      "source": [
        "#Mount Google Drive\n",
        "drive.mount('/content/drive')"
      ],
      "metadata": {
        "colab": {
          "base_uri": "https://localhost:8080/"
        },
        "id": "Vk_H62oKcDXQ",
        "outputId": "d5632a5d-3400-4f63-8e21-e85a7565ada2"
      },
      "execution_count": 13,
      "outputs": [
        {
          "output_type": "stream",
          "name": "stdout",
          "text": [
            "Drive already mounted at /content/drive; to attempt to forcibly remount, call drive.mount(\"/content/drive\", force_remount=True).\n"
          ]
        }
      ]
    },
    {
      "cell_type": "code",
      "source": [
        "#Define the base path to the dataset\n",
        "base_path = '/content/drive/MyDrive/Dataset/sih_dataset'\n",
        "# Ensure the SARIMA models directory exists\n",
        "os.makedirs('/content/drive/MyDrive/sarima_models', exist_ok=True)"
      ],
      "metadata": {
        "id": "E1KHjNO0dP8R"
      },
      "execution_count": 14,
      "outputs": []
    },
    {
      "cell_type": "code",
      "source": [
        "# Define a function to retrieve the file path for a given commodity and zone\n",
        "def get_file_path(commodity, zone):\n",
        "    commodity_folder = {\n",
        "        'groundnut': 'oils/groundnut',\n",
        "        'mustard': 'oils/mustard',\n",
        "        'palm': 'oils/palm',\n",
        "        'soya': 'oils/soya',\n",
        "        'sunflower': 'oils/sunflower',\n",
        "        'vanaspati': 'oils/vanaspati',\n",
        "        'wheat': 'grains/wheat',\n",
        "        'atta': 'grains/atta',\n",
        "        'rice': 'grains/rice',\n",
        "        'gram': 'pulses/gram',\n",
        "        'masoor': 'pulses/masoor',\n",
        "        'moong': 'pulses/moong',\n",
        "        'tur': 'pulses/tur',\n",
        "        'urad': 'pulses/urad',\n",
        "        'onion': 'vegetables/onion',\n",
        "        'potato': 'vegetables/potato',\n",
        "        'tomato': 'vegetables/tomato',\n",
        "        'gur': 'others/gur',\n",
        "        'milk': 'others/milk',\n",
        "        'salt': 'others/salt',\n",
        "        'sugar': 'others/sugar',\n",
        "        'tea': 'others/tea'\n",
        "    }\n",
        "    file_name = f\"{commodity}_{zone}.csv\"\n",
        "    file_path = os.path.join(base_path, commodity_folder[commodity], file_name)\n",
        "    return file_path\n"
      ],
      "metadata": {
        "id": "majN3GJCDRbk"
      },
      "execution_count": 15,
      "outputs": []
    },
    {
      "cell_type": "code",
      "source": [
        "# Function to load and preprocess data\n",
        "def load_and_prepare_data(commodity, zone):\n",
        "    file_path = get_file_path(commodity, zone)\n",
        "    df = pd.read_csv(file_path)\n",
        "\n",
        "    # Ensure date is parsed correctly and drop any rows with invalid/missing dates\n",
        "    df['date'] = pd.to_datetime(df['date'], errors='coerce')\n",
        "    df.dropna(subset=['date', 'value'], inplace=True)\n",
        "\n",
        "    # Sort by date\n",
        "    df.sort_values('date', inplace=True)\n",
        "\n",
        "    # Set date as index and infer frequency\n",
        "    df.set_index('date', inplace=True)\n",
        "\n",
        "    # Set a regular date frequency (daily, monthly) if possible\n",
        "    df = df.asfreq('D')\n",
        "\n",
        "    return df\n"
      ],
      "metadata": {
        "id": "lZSBUwaNDZZr"
      },
      "execution_count": 16,
      "outputs": []
    },
    {
      "cell_type": "code",
      "source": [
        "# Function to train SARIMA model\n",
        "def train_sarima_model(commodity, zone):\n",
        "    df = load_and_prepare_data(commodity, zone)\n",
        "\n",
        "    # Train SARIMA model (p, d, q, P, D, Q, s are manually tuned or can be tuned via grid search)\n",
        "    sarima_model = sm.tsa.SARIMAX(df['value'],\n",
        "                                  order=(1, 1, 1),\n",
        "                                  seasonal_order=(1, 1, 1, 12),\n",
        "                                  enforce_stationarity=False,\n",
        "                                  enforce_invertibility=False)\n",
        "    sarima_result = sarima_model.fit(disp=False)\n",
        "\n",
        "    # Forecast for the next 3 months (90 days)\n",
        "    forecast = sarima_result.get_forecast(steps=90)\n",
        "    forecast_df = forecast.summary_frame()\n",
        "\n",
        "    # Store the forecasted result for future retrieval\n",
        "    with open(f'/content/drive/MyDrive/sarima_models/{commodity}_{zone}_forecast.pkl', 'wb') as f:\n",
        "        pickle.dump(forecast_df, f)\n",
        "\n",
        "    return sarima_result, forecast_df\n"
      ],
      "metadata": {
        "id": "uLlvxJAvE9xw"
      },
      "execution_count": 17,
      "outputs": []
    },
    {
      "cell_type": "code",
      "source": [
        "# Function to forecast prices for all commodities and zones\n",
        "def train_and_save_all_models():\n",
        "    commodities = ['groundnut', 'mustard', 'palm', 'soya', 'sunflower', 'vanaspati',\n",
        "                   'wheat', 'atta', 'rice', 'gram', 'masoor', 'moong', 'tur', 'urad',\n",
        "                   'onion', 'potato', 'tomato', 'gur', 'milk', 'salt', 'sugar', 'tea']\n",
        "\n",
        "    zones = ['east', 'northeast', 'north', 'south', 'west']\n",
        "\n",
        "    # Loop through each commodity and zone to train models\n",
        "    for commodity in commodities:\n",
        "        for zone in zones:\n",
        "            print(f\"Training SARIMA for {commodity} in {zone} zone...\")\n",
        "            try:\n",
        "                train_sarima_model(commodity, zone)\n",
        "            except Exception as e:\n",
        "\n",
        "                print(f\"Error training {commodity} in {zone}: {e}\")\n"
      ],
      "metadata": {
        "id": "KEEgtUJ5FChm"
      },
      "execution_count": 18,
      "outputs": []
    },
    {
      "cell_type": "code",
      "source": [
        "# Function to load and display forecast based on user input\n",
        "def load_forecast(commodity, zone):\n",
        "    try:\n",
        "        with open(f'/content/drive/MyDrive/sarima_models/{commodity}_{zone}_forecast.pkl', 'rb') as f:\n",
        "            forecast_df = pickle.load(f)\n",
        "        return forecast_df\n",
        "    except FileNotFoundError:\n",
        "        return f\"No forecast found for {commodity} in {zone}\""
      ],
      "metadata": {
        "id": "ntNjSRH8H7Ax"
      },
      "execution_count": 19,
      "outputs": []
    },
    {
      "cell_type": "code",
      "source": [
        "# Train and store models for all commodities and zones\n",
        "train_and_save_all_models()"
      ],
      "metadata": {
        "colab": {
          "base_uri": "https://localhost:8080/"
        },
        "id": "22VXZTRKH_G0",
        "outputId": "c02002dc-13af-407f-d93a-244f746a5f5b"
      },
      "execution_count": 20,
      "outputs": [
        {
          "output_type": "stream",
          "name": "stdout",
          "text": [
            "Training SARIMA for groundnut in east zone...\n",
            "Training SARIMA for groundnut in northeast zone...\n",
            "Training SARIMA for groundnut in north zone...\n",
            "Training SARIMA for groundnut in south zone...\n",
            "Training SARIMA for groundnut in west zone...\n",
            "Training SARIMA for mustard in east zone...\n",
            "Training SARIMA for mustard in northeast zone...\n",
            "Training SARIMA for mustard in north zone...\n",
            "Training SARIMA for mustard in south zone...\n",
            "Training SARIMA for mustard in west zone...\n",
            "Training SARIMA for palm in east zone...\n",
            "Training SARIMA for palm in northeast zone...\n",
            "Training SARIMA for palm in north zone...\n",
            "Training SARIMA for palm in south zone...\n",
            "Training SARIMA for palm in west zone...\n",
            "Training SARIMA for soya in east zone...\n",
            "Training SARIMA for soya in northeast zone...\n",
            "Training SARIMA for soya in north zone...\n",
            "Training SARIMA for soya in south zone...\n",
            "Training SARIMA for soya in west zone...\n",
            "Training SARIMA for sunflower in east zone...\n",
            "Training SARIMA for sunflower in northeast zone...\n",
            "Training SARIMA for sunflower in north zone...\n",
            "Training SARIMA for sunflower in south zone...\n",
            "Training SARIMA for sunflower in west zone...\n",
            "Training SARIMA for vanaspati in east zone...\n",
            "Training SARIMA for vanaspati in northeast zone...\n",
            "Training SARIMA for vanaspati in north zone...\n",
            "Training SARIMA for vanaspati in south zone...\n",
            "Training SARIMA for vanaspati in west zone...\n",
            "Training SARIMA for wheat in east zone...\n",
            "Training SARIMA for wheat in northeast zone...\n",
            "Training SARIMA for wheat in north zone...\n",
            "Training SARIMA for wheat in south zone...\n",
            "Training SARIMA for wheat in west zone...\n",
            "Training SARIMA for atta in east zone...\n",
            "Training SARIMA for atta in northeast zone...\n",
            "Training SARIMA for atta in north zone...\n",
            "Training SARIMA for atta in south zone...\n",
            "Training SARIMA for atta in west zone...\n",
            "Training SARIMA for rice in east zone...\n",
            "Training SARIMA for rice in northeast zone...\n",
            "Training SARIMA for rice in north zone...\n",
            "Training SARIMA for rice in south zone...\n",
            "Training SARIMA for rice in west zone...\n",
            "Training SARIMA for gram in east zone...\n",
            "Training SARIMA for gram in northeast zone...\n",
            "Training SARIMA for gram in north zone...\n",
            "Training SARIMA for gram in south zone...\n",
            "Training SARIMA for gram in west zone...\n",
            "Training SARIMA for masoor in east zone...\n",
            "Training SARIMA for masoor in northeast zone...\n",
            "Training SARIMA for masoor in north zone...\n",
            "Training SARIMA for masoor in south zone...\n",
            "Training SARIMA for masoor in west zone...\n",
            "Training SARIMA for moong in east zone...\n",
            "Training SARIMA for moong in northeast zone...\n",
            "Training SARIMA for moong in north zone...\n",
            "Training SARIMA for moong in south zone...\n",
            "Training SARIMA for moong in west zone...\n",
            "Training SARIMA for tur in east zone...\n",
            "Training SARIMA for tur in northeast zone...\n",
            "Training SARIMA for tur in north zone...\n",
            "Training SARIMA for tur in south zone...\n",
            "Training SARIMA for tur in west zone...\n",
            "Training SARIMA for urad in east zone...\n",
            "Training SARIMA for urad in northeast zone...\n",
            "Training SARIMA for urad in north zone...\n",
            "Training SARIMA for urad in south zone...\n",
            "Training SARIMA for urad in west zone...\n",
            "Training SARIMA for onion in east zone...\n",
            "Training SARIMA for onion in northeast zone...\n",
            "Training SARIMA for onion in north zone...\n",
            "Training SARIMA for onion in south zone...\n",
            "Training SARIMA for onion in west zone...\n",
            "Training SARIMA for potato in east zone...\n",
            "Training SARIMA for potato in northeast zone...\n",
            "Training SARIMA for potato in north zone...\n",
            "Training SARIMA for potato in south zone...\n",
            "Training SARIMA for potato in west zone...\n",
            "Training SARIMA for tomato in east zone...\n",
            "Training SARIMA for tomato in northeast zone...\n",
            "Training SARIMA for tomato in north zone...\n",
            "Training SARIMA for tomato in south zone...\n",
            "Training SARIMA for tomato in west zone...\n",
            "Training SARIMA for gur in east zone...\n",
            "Training SARIMA for gur in northeast zone...\n",
            "Training SARIMA for gur in north zone...\n",
            "Training SARIMA for gur in south zone...\n",
            "Training SARIMA for gur in west zone...\n",
            "Training SARIMA for milk in east zone...\n",
            "Training SARIMA for milk in northeast zone...\n",
            "Training SARIMA for milk in north zone...\n",
            "Training SARIMA for milk in south zone...\n",
            "Training SARIMA for milk in west zone...\n",
            "Training SARIMA for salt in east zone...\n",
            "Training SARIMA for salt in northeast zone...\n",
            "Training SARIMA for salt in north zone...\n",
            "Training SARIMA for salt in south zone...\n",
            "Training SARIMA for salt in west zone...\n",
            "Training SARIMA for sugar in east zone...\n",
            "Training SARIMA for sugar in northeast zone...\n",
            "Training SARIMA for sugar in north zone...\n",
            "Training SARIMA for sugar in south zone...\n",
            "Training SARIMA for sugar in west zone...\n",
            "Training SARIMA for tea in east zone...\n",
            "Training SARIMA for tea in northeast zone...\n",
            "Training SARIMA for tea in north zone...\n",
            "Training SARIMA for tea in south zone...\n",
            "Training SARIMA for tea in west zone...\n"
          ]
        }
      ]
    },
    {
      "cell_type": "code",
      "source": [
        "# Based on user input, retrieve forecast for a specific commodity and zone\n",
        "commodity_input = input()\n",
        "zone_input = input()\n",
        "\n",
        "# Load and display forecast for the selected commodity and zone\n",
        "forecast_result = load_forecast(commodity_input, zone_input)\n",
        "\n",
        "if isinstance(forecast_result, pd.DataFrame):\n",
        "    # Print forecasted values for the next 3 months\n",
        "    forecast_result['average'] = (forecast_result['mean'] + forecast_result['mean_ci_lower'] + forecast_result['mean_ci_upper']) / 3\n",
        "    print(\"Forecasted average prices for the next 3 months:\")\n",
        "    print(forecast_result[['mean', 'mean_ci_lower', 'mean_ci_upper', 'average']].head(90))  # Display first 90 days forecast\n",
        "\n",
        "    # Plot forecast\n",
        "    forecast_result[['mean', 'mean_ci_lower', 'mean_ci_upper']].plot()\n",
        "    plt.title(f'Forecast for {commodity_input} in {zone_input} zone')\n",
        "    plt.xlabel('Date')\n",
        "    plt.ylabel('Price')\n",
        "    plt.show()\n",
        "else:\n",
        "    print(forecast_result)"
      ],
      "metadata": {
        "id": "m02RV9GkKEcf",
        "outputId": "7f50bfe0-6f3b-45bd-c8eb-2763d4eba2d0",
        "colab": {
          "base_uri": "https://localhost:8080/",
          "height": 815
        }
      },
      "execution_count": 22,
      "outputs": [
        {
          "output_type": "stream",
          "name": "stdout",
          "text": [
            "tea\n",
            "northeast\n",
            "Forecasted average prices for the next 3 months:\n",
            "value             mean  mean_ci_lower  mean_ci_upper     average\n",
            "2024-09-03  317.214280     275.030600     359.397960  317.214280\n",
            "2024-09-04  317.657782     274.200399     361.115165  317.657782\n",
            "2024-09-05  318.555760     274.759778     362.351743  318.555760\n",
            "2024-09-06  318.621810     274.578380     362.665240  318.621810\n",
            "2024-09-07  317.397378     273.123466     361.671291  317.397378\n",
            "...                ...            ...            ...         ...\n",
            "2024-11-27  320.826330     262.764575     378.888085  320.826330\n",
            "2024-11-28  321.309724     263.095601     379.523847  321.309724\n",
            "2024-11-29  321.265934     262.898867     379.633001  321.265934\n",
            "2024-11-30  320.688012     262.169788     379.206237  320.688012\n",
            "2024-12-01  320.614185     261.940325     379.288044  320.614185\n",
            "\n",
            "[90 rows x 4 columns]\n"
          ]
        },
        {
          "output_type": "display_data",
          "data": {
            "text/plain": [
              "<Figure size 640x480 with 1 Axes>"
            ],
            "image/png": "[encoded data removed]"
          },
          "metadata": {}
        }
      ]
    },
    {
      "cell_type": "code",
      "source": [
        "n"
      ],
      "metadata": {
        "id": "JjzBq3TBYr22"
      },
      "execution_count": null,
      "outputs": []
    }
  ]
}